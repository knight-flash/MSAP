{
 "cells": [
  {
   "cell_type": "code",
   "execution_count": 1,
   "metadata": {},
   "outputs": [
    {
     "name": "stdout",
     "output_type": "stream",
     "text": [
      "/root/HAR/MSAP_PAMAP2/MSAP.py\n"
     ]
    }
   ],
   "source": [
    "import torch\n",
    "import torch.nn as nn\n",
    "import torch.optim as optim\n",
    "from torch.utils.data import DataLoader, TensorDataset\n",
    "from sklearn.metrics import f1_score, accuracy_score\n",
    "import time\n",
    "import psutil\n",
    "import numpy as np\n",
    "# 检查是否有可用的 GPU，如果有则使用 GPU\n",
    "device = torch.device(\"cuda\" if torch.cuda.is_available() else \"cpu\")\n",
    "import sys\n",
    "arg = sys.argv\n",
    "# name = str(arg[1])\n",
    "# modelfile = str(arg[2])\n",
    "# database = str(arg[3])\n",
    "# fold_path = str(arg[4])+'\\\\'\n",
    "name = 'msc_pamap2_model.pt'\n",
    "modelfile = '/root/HAR/MSAP_PAMAP2/msc_pamap2_model.pt'\n",
    "database = 'PAMAP2'\n",
    "fold_path = '/root/HAR/MSAP_PAMAP2'+'/'\n",
    "datapath = '/root/HAR/dataset/'+database+'/MSC/'\n",
    "print(fold_path+'MSAP.py')\n",
    "sys.path.append(fold_path+'MSAP')\n",
    "sys.path.append(fold_path+'TEST1.py')\n",
    "sys.path.append(fold_path+'TEST2.py')"
   ]
  },
  {
   "cell_type": "code",
   "execution_count": 2,
   "metadata": {},
   "outputs": [
    {
     "name": "stdout",
     "output_type": "stream",
     "text": [
      "使用GPU训练中：NVIDIA GeForce RTX 4090\n",
      "使用GPU训练中：NVIDIA GeForce RTX 4090\n",
      "使用GPU训练中：NVIDIA GeForce RTX 4090\n",
      "1\n"
     ]
    }
   ],
   "source": [
    "from MSAP import GatedFCN,GatedRes2NetBottleneck,EfficientChannelAttention,Shrinkage_SE,Shrinkage_ECA,ECA\n",
    "from TEST1 import GatedFCN2,GatedRes2NetBottleneck1,GatedFCN3,GatedRes2NetBottleneck2,SEModule\n",
    "from TEST2 import ResNet,Bottleneck,LSTM_CNN,CNN,CNN_GRU,ATT,LSTM\n",
    "from MSC import Model,MSNN_Feature_Embedding_Two_Way,PositionalEncoding,Context_Encoder,RetNet,MultiScaleRetention,SimpleRetention,XPOS,Classifier"
   ]
  },
  {
   "cell_type": "code",
   "execution_count": 6,
   "metadata": {},
   "outputs": [
    {
     "name": "stdout",
     "output_type": "stream",
     "text": [
      "F1 Score: 0.9324\n",
      "Accuracy: 0.9323\n",
      "Run Time: 0.19 seconds\n",
      "Number of parameters: 94481183\n"
     ]
    }
   ],
   "source": [
    "X = torch.from_numpy(np.load(datapath+'x_test.npy')).float()\n",
    "#y = torch.from_numpy(np.load(datapath+'y_test.npy')).long()\n",
    "y = torch.from_numpy(np.load(datapath+'y_test.npy')).long().flatten()\n",
    "with open('log2.txt', 'a') as f:\n",
    "    f.write(f'Model Name: {name}\\n')\n",
    "\n",
    "\n",
    "model = torch.load(modelfile)\n",
    "\n",
    "# 评估模型\n",
    "model.eval()  # 设置模型为评估模式\n",
    "with torch.no_grad():\n",
    "    start_time = time.time()\n",
    "    # 这里我们直接使用全部数据进行评估，实际中你可能需要一个独立的测试集\n",
    "    predictions = model(X.to(device)).argmax(dim=1).cpu()\n",
    "    end_time = time.time()\n",
    "    memory_usage = psutil.virtual_memory().used\n",
    "    #print(predictions.shape)\n",
    "    f1 = f1_score(y, predictions, average='weighted')\n",
    "    acc = accuracy_score(y, predictions)\n",
    "\n",
    "# 输出 F1 分数和准确率\n",
    "\n",
    "print(f'F1 Score: {f1:.4f}')\n",
    "print(f'Accuracy: {acc:.4f}')\n",
    "\n",
    "# 输出运行时间\n",
    "print(f'Run Time: {end_time - start_time:.2f} seconds')\n",
    "\n",
    "# 输出模型参数数量\n",
    "num_params = sum(p.numel() for p in model.parameters() if p.requires_grad)\n",
    "print(f'Number of parameters: {num_params}')\n",
    "\n",
    "#save as log.txt\n",
    "with open('log2.txt', 'a') as f:\n",
    "    f.write(f'Model Name: {name}\\n')\n",
    "    f.write(f'Dataset name: {database}\\n')\n",
    "    f.write(f'F1 Score: {f1:.4f}\\n')\n",
    "    f.write(f'Accuracy: {acc:.4f}\\n')\n",
    "    f.write(f'Run Time: {end_time - start_time:.2f}\\n')\n",
    "    f.write(f'Average Memory Usage: {memory_usage / 1024**2:.2f}\\n')\n",
    "\n",
    "    f.write(f'Number of parameters: {num_params}\\n')\n",
    "    f.write('\\n')  #add a line to seperate"
   ]
  }
 ],
 "metadata": {
  "kernelspec": {
   "display_name": "base",
   "language": "python",
   "name": "python3"
  },
  "language_info": {
   "codemirror_mode": {
    "name": "ipython",
    "version": 3
   },
   "file_extension": ".py",
   "mimetype": "text/x-python",
   "name": "python",
   "nbconvert_exporter": "python",
   "pygments_lexer": "ipython3",
   "version": "3.8.10"
  }
 },
 "nbformat": 4,
 "nbformat_minor": 2
}
